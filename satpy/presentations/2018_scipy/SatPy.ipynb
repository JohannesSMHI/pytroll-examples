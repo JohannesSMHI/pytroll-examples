{
 "cells": [
  {
   "cell_type": "markdown",
   "metadata": {
    "slideshow": {
     "slide_type": "notes"
    }
   },
   "source": [
    "To convert and serve this notebook as a reveal.js slideshow:\n",
    "```python\n",
    "jupyter nbconvert SatPy.ipynb --to slides --post serve --SlidesExporter.reveal_theme=simple --SlidesExporter.reveal_scroll=True --SlidesExporter.reveal_transition=none\n",
    "```"
   ]
  },
  {
   "cell_type": "code",
   "execution_count": 1,
   "metadata": {
    "slideshow": {
     "slide_type": "skip"
    }
   },
   "outputs": [],
   "source": [
    "import warnings\n",
    "warnings.filterwarnings('ignore')\n",
    "import logging\n",
    "logging.basicConfig(level=logging.CRITICAL)"
   ]
  },
  {
   "cell_type": "markdown",
   "metadata": {
    "slideshow": {
     "slide_type": "slide"
    }
   },
   "source": [
    "# SatPy\n",
    "## A Python Library for Weather Satellite Imagery\n",
    "\n",
    "***\n",
    "\n",
    "By David Hoese <sub>*pronounced Haze</sub>"
   ]
  },
  {
   "cell_type": "markdown",
   "metadata": {
    "slideshow": {
     "slide_type": "subslide"
    }
   },
   "source": [
    "# SatPy Core Developers\n",
    "\n",
    "* Martin Raspaud\n",
    "* Adam Dybbroe\n",
    "* Panu Lahtinen\n",
    "\n",
    "## Thank you\n",
    "\n",
    "* PyTroll Users\n",
    "* Kathy Strabala"
   ]
  },
  {
   "cell_type": "markdown",
   "metadata": {
    "slideshow": {
     "slide_type": "subslide"
    }
   },
   "source": [
    "# About Me\n",
    "\n",
    "* Github: djhoese\n",
    "* Twitter: djhoese\n",
    "* Software Developer @ Space Science and Engineering Center (SSEC) - University of Wisconsin - Madison\n",
    "* Community Satellite Processing Package (CSPP) Team\n",
    "* Polar2Grid/Geo2Grid\n",
    "* Satellite Information Familiarization Tool (SIFT) - Poster\n",
    "* VisPy Maintainer - Plenary\n",
    "* PyTroll/SatPy Maintainer"
   ]
  },
  {
   "cell_type": "markdown",
   "metadata": {
    "slideshow": {
     "slide_type": "subslide"
    }
   },
   "source": [
    "# Outline\n",
    "\n",
    "1. What do we work with?\n",
    "2. How does SatPy make our work easier?\n",
    "3. Cool stuff you can do with SatPy"
   ]
  },
  {
   "cell_type": "markdown",
   "metadata": {
    "slideshow": {
     "slide_type": "slide"
    }
   },
   "source": [
    "# What do we work with? Weather Satellite Data\n",
    "\n",
    "* Forecasting and forecast models\n",
    "* Research/Analysis\n",
    "* Pretty pictures\n",
    "* Operational processing\n",
    "  \n",
    "<img src=\"SatPy - Do Stuff Diagram.png\" alt=\"Do Stuff Diagram\">"
   ]
  },
  {
   "cell_type": "code",
   "execution_count": 1,
   "metadata": {
    "slideshow": {
     "slide_type": "skip"
    }
   },
   "outputs": [
    {
     "name": "stderr",
     "output_type": "stream",
     "text": [
      "Rasterio 1.0+ required for setting colorinterp\n",
      "Rasterio 1.0+ required for setting colorinterp\n",
      "Rasterio 1.0+ required for setting colorinterp\n",
      "Rasterio 1.0+ required for setting colorinterp\n",
      "Rasterio 1.0+ required for setting colorinterp\n",
      "Rasterio 1.0+ required for setting colorinterp\n",
      "Rasterio 1.0+ required for setting colorinterp\n",
      "Rasterio 1.0+ required for setting colorinterp\n",
      "Rasterio 1.0+ required for setting colorinterp\n",
      "Rasterio 1.0+ required for setting colorinterp\n",
      "Rasterio 1.0+ required for setting colorinterp\n",
      "Rasterio 1.0+ required for setting colorinterp\n",
      "Rasterio 1.0+ required for setting colorinterp\n",
      "Rasterio 1.0+ required for setting colorinterp\n",
      "Rasterio 1.0+ required for setting colorinterp\n",
      "Rasterio 1.0+ required for setting colorinterp\n"
     ]
    },
    {
     "name": "stdout",
     "output_type": "stream",
     "text": [
      "montage: Unknown field with tag 33550 (0x830e) encountered. `TIFFReadDirectory' @ warning/tiff.c/TIFFWarnings/912.\r\n",
      "montage: Unknown field with tag 33922 (0x8482) encountered. `TIFFReadDirectory' @ warning/tiff.c/TIFFWarnings/912.\r\n",
      "montage: Unknown field with tag 34735 (0x87af) encountered. `TIFFReadDirectory' @ warning/tiff.c/TIFFWarnings/912.\r\n",
      "montage: Unknown field with tag 34736 (0x87b0) encountered. `TIFFReadDirectory' @ warning/tiff.c/TIFFWarnings/912.\r\n",
      "montage: Unknown field with tag 34737 (0x87b1) encountered. `TIFFReadDirectory' @ warning/tiff.c/TIFFWarnings/912.\r\n",
      "montage: Unknown field with tag 42112 (0xa480) encountered. `TIFFReadDirectory' @ warning/tiff.c/TIFFWarnings/912.\r\n",
      "montage: Unknown field with tag 33550 (0x830e) encountered. `TIFFReadDirectory' @ warning/tiff.c/TIFFWarnings/912.\r\n",
      "montage: Unknown field with tag 33922 (0x8482) encountered. `TIFFReadDirectory' @ warning/tiff.c/TIFFWarnings/912.\r\n",
      "montage: Unknown field with tag 34735 (0x87af) encountered. `TIFFReadDirectory' @ warning/tiff.c/TIFFWarnings/912.\r\n",
      "montage: Unknown field with tag 34736 (0x87b0) encountered. `TIFFReadDirectory' @ warning/tiff.c/TIFFWarnings/912.\r\n",
      "montage: Unknown field with tag 34737 (0x87b1) encountered. `TIFFReadDirectory' @ warning/tiff.c/TIFFWarnings/912.\r\n",
      "montage: Unknown field with tag 42112 (0xa480) encountered. `TIFFReadDirectory' @ warning/tiff.c/TIFFWarnings/912.\r\n",
      "montage: Unknown field with tag 33550 (0x830e) encountered. `TIFFReadDirectory' @ warning/tiff.c/TIFFWarnings/912.\r\n",
      "montage: Unknown field with tag 33922 (0x8482) encountered. `TIFFReadDirectory' @ warning/tiff.c/TIFFWarnings/912.\r\n",
      "montage: Unknown field with tag 34735 (0x87af) encountered. `TIFFReadDirectory' @ warning/tiff.c/TIFFWarnings/912.\r\n",
      "montage: Unknown field with tag 34736 (0x87b0) encountered. `TIFFReadDirectory' @ warning/tiff.c/TIFFWarnings/912.\r\n",
      "montage: Unknown field with tag 34737 (0x87b1) encountered. `TIFFReadDirectory' @ warning/tiff.c/TIFFWarnings/912.\r\n",
      "montage: Unknown field with tag 42112 (0xa480) encountered. `TIFFReadDirectory' @ warning/tiff.c/TIFFWarnings/912.\r\n",
      "montage: Unknown field with tag 33550 (0x830e) encountered. `TIFFReadDirectory' @ warning/tiff.c/TIFFWarnings/912.\r\n",
      "montage: Unknown field with tag 33922 (0x8482) encountered. `TIFFReadDirectory' @ warning/tiff.c/TIFFWarnings/912.\r\n",
      "montage: Unknown field with tag 34735 (0x87af) encountered. `TIFFReadDirectory' @ warning/tiff.c/TIFFWarnings/912.\r\n",
      "montage: Unknown field with tag 34736 (0x87b0) encountered. `TIFFReadDirectory' @ warning/tiff.c/TIFFWarnings/912.\r\n",
      "montage: Unknown field with tag 34737 (0x87b1) encountered. `TIFFReadDirectory' @ warning/tiff.c/TIFFWarnings/912.\r\n",
      "montage: Unknown field with tag 42112 (0xa480) encountered. `TIFFReadDirectory' @ warning/tiff.c/TIFFWarnings/912.\r\n",
      "montage: Unknown field with tag 33550 (0x830e) encountered. `TIFFReadDirectory' @ warning/tiff.c/TIFFWarnings/912.\r\n",
      "montage: Unknown field with tag 33922 (0x8482) encountered. `TIFFReadDirectory' @ warning/tiff.c/TIFFWarnings/912.\r\n",
      "montage: Unknown field with tag 34735 (0x87af) encountered. `TIFFReadDirectory' @ warning/tiff.c/TIFFWarnings/912.\r\n",
      "montage: Unknown field with tag 34736 (0x87b0) encountered. `TIFFReadDirectory' @ warning/tiff.c/TIFFWarnings/912.\r\n",
      "montage: Unknown field with tag 34737 (0x87b1) encountered. `TIFFReadDirectory' @ warning/tiff.c/TIFFWarnings/912.\r\n",
      "montage: Unknown field with tag 42112 (0xa480) encountered. `TIFFReadDirectory' @ warning/tiff.c/TIFFWarnings/912.\r\n",
      "montage: Unknown field with tag 33550 (0x830e) encountered. `TIFFReadDirectory' @ warning/tiff.c/TIFFWarnings/912.\r\n",
      "montage: Unknown field with tag 33922 (0x8482) encountered. `TIFFReadDirectory' @ warning/tiff.c/TIFFWarnings/912.\r\n",
      "montage: Unknown field with tag 34735 (0x87af) encountered. `TIFFReadDirectory' @ warning/tiff.c/TIFFWarnings/912.\r\n",
      "montage: Unknown field with tag 34736 (0x87b0) encountered. `TIFFReadDirectory' @ warning/tiff.c/TIFFWarnings/912.\r\n",
      "montage: Unknown field with tag 34737 (0x87b1) encountered. `TIFFReadDirectory' @ warning/tiff.c/TIFFWarnings/912.\r\n",
      "montage: Unknown field with tag 42112 (0xa480) encountered. `TIFFReadDirectory' @ warning/tiff.c/TIFFWarnings/912.\r\n",
      "montage: Unknown field with tag 33550 (0x830e) encountered. `TIFFReadDirectory' @ warning/tiff.c/TIFFWarnings/912.\r\n",
      "montage: Unknown field with tag 33922 (0x8482) encountered. `TIFFReadDirectory' @ warning/tiff.c/TIFFWarnings/912.\r\n",
      "montage: Unknown field with tag 34735 (0x87af) encountered. `TIFFReadDirectory' @ warning/tiff.c/TIFFWarnings/912.\r\n",
      "montage: Unknown field with tag 34736 (0x87b0) encountered. `TIFFReadDirectory' @ warning/tiff.c/TIFFWarnings/912.\r\n",
      "montage: Unknown field with tag 34737 (0x87b1) encountered. `TIFFReadDirectory' @ warning/tiff.c/TIFFWarnings/912.\r\n",
      "montage: Unknown field with tag 42112 (0xa480) encountered. `TIFFReadDirectory' @ warning/tiff.c/TIFFWarnings/912.\r\n",
      "montage: Unknown field with tag 33550 (0x830e) encountered. `TIFFReadDirectory' @ warning/tiff.c/TIFFWarnings/912.\r\n",
      "montage: Unknown field with tag 33922 (0x8482) encountered. `TIFFReadDirectory' @ warning/tiff.c/TIFFWarnings/912.\r\n",
      "montage: Unknown field with tag 34735 (0x87af) encountered. `TIFFReadDirectory' @ warning/tiff.c/TIFFWarnings/912.\r\n",
      "montage: Unknown field with tag 34736 (0x87b0) encountered. `TIFFReadDirectory' @ warning/tiff.c/TIFFWarnings/912.\r\n",
      "montage: Unknown field with tag 34737 (0x87b1) encountered. `TIFFReadDirectory' @ warning/tiff.c/TIFFWarnings/912.\r\n",
      "montage: Unknown field with tag 42112 (0xa480) encountered. `TIFFReadDirectory' @ warning/tiff.c/TIFFWarnings/912.\r\n",
      "montage: Unknown field with tag 33550 (0x830e) encountered. `TIFFReadDirectory' @ warning/tiff.c/TIFFWarnings/912.\r\n",
      "montage: Unknown field with tag 33922 (0x8482) encountered. `TIFFReadDirectory' @ warning/tiff.c/TIFFWarnings/912.\r\n",
      "montage: Unknown field with tag 34735 (0x87af) encountered. `TIFFReadDirectory' @ warning/tiff.c/TIFFWarnings/912.\r\n",
      "montage: Unknown field with tag 34736 (0x87b0) encountered. `TIFFReadDirectory' @ warning/tiff.c/TIFFWarnings/912.\r\n",
      "montage: Unknown field with tag 34737 (0x87b1) encountered. `TIFFReadDirectory' @ warning/tiff.c/TIFFWarnings/912.\r\n",
      "montage: Unknown field with tag 42112 (0xa480) encountered. `TIFFReadDirectory' @ warning/tiff.c/TIFFWarnings/912.\r\n",
      "montage: Unknown field with tag 33550 (0x830e) encountered. `TIFFReadDirectory' @ warning/tiff.c/TIFFWarnings/912.\r\n",
      "montage: Unknown field with tag 33922 (0x8482) encountered. `TIFFReadDirectory' @ warning/tiff.c/TIFFWarnings/912.\r\n",
      "montage: Unknown field with tag 34735 (0x87af) encountered. `TIFFReadDirectory' @ warning/tiff.c/TIFFWarnings/912.\r\n",
      "montage: Unknown field with tag 34736 (0x87b0) encountered. `TIFFReadDirectory' @ warning/tiff.c/TIFFWarnings/912.\r\n",
      "montage: Unknown field with tag 34737 (0x87b1) encountered. `TIFFReadDirectory' @ warning/tiff.c/TIFFWarnings/912.\r\n",
      "montage: Unknown field with tag 42112 (0xa480) encountered. `TIFFReadDirectory' @ warning/tiff.c/TIFFWarnings/912.\r\n",
      "montage: Unknown field with tag 33550 (0x830e) encountered. `TIFFReadDirectory' @ warning/tiff.c/TIFFWarnings/912.\r\n",
      "montage: Unknown field with tag 33922 (0x8482) encountered. `TIFFReadDirectory' @ warning/tiff.c/TIFFWarnings/912.\r\n",
      "montage: Unknown field with tag 34735 (0x87af) encountered. `TIFFReadDirectory' @ warning/tiff.c/TIFFWarnings/912.\r\n",
      "montage: Unknown field with tag 34736 (0x87b0) encountered. `TIFFReadDirectory' @ warning/tiff.c/TIFFWarnings/912.\r\n",
      "montage: Unknown field with tag 34737 (0x87b1) encountered. `TIFFReadDirectory' @ warning/tiff.c/TIFFWarnings/912.\r\n",
      "montage: Unknown field with tag 42112 (0xa480) encountered. `TIFFReadDirectory' @ warning/tiff.c/TIFFWarnings/912.\r\n",
      "montage: Unknown field with tag 33550 (0x830e) encountered. `TIFFReadDirectory' @ warning/tiff.c/TIFFWarnings/912.\r\n",
      "montage: Unknown field with tag 33922 (0x8482) encountered. `TIFFReadDirectory' @ warning/tiff.c/TIFFWarnings/912.\r\n",
      "montage: Unknown field with tag 34735 (0x87af) encountered. `TIFFReadDirectory' @ warning/tiff.c/TIFFWarnings/912.\r\n",
      "montage: Unknown field with tag 34736 (0x87b0) encountered. `TIFFReadDirectory' @ warning/tiff.c/TIFFWarnings/912.\r\n",
      "montage: Unknown field with tag 34737 (0x87b1) encountered. `TIFFReadDirectory' @ warning/tiff.c/TIFFWarnings/912.\r\n",
      "montage: Unknown field with tag 42112 (0xa480) encountered. `TIFFReadDirectory' @ warning/tiff.c/TIFFWarnings/912.\r\n",
      "montage: Unknown field with tag 33550 (0x830e) encountered. `TIFFReadDirectory' @ warning/tiff.c/TIFFWarnings/912.\r\n",
      "montage: Unknown field with tag 33922 (0x8482) encountered. `TIFFReadDirectory' @ warning/tiff.c/TIFFWarnings/912.\r\n",
      "montage: Unknown field with tag 34735 (0x87af) encountered. `TIFFReadDirectory' @ warning/tiff.c/TIFFWarnings/912.\r\n",
      "montage: Unknown field with tag 34736 (0x87b0) encountered. `TIFFReadDirectory' @ warning/tiff.c/TIFFWarnings/912.\r\n",
      "montage: Unknown field with tag 34737 (0x87b1) encountered. `TIFFReadDirectory' @ warning/tiff.c/TIFFWarnings/912.\r\n",
      "montage: Unknown field with tag 42112 (0xa480) encountered. `TIFFReadDirectory' @ warning/tiff.c/TIFFWarnings/912.\r\n",
      "montage: Unknown field with tag 33550 (0x830e) encountered. `TIFFReadDirectory' @ warning/tiff.c/TIFFWarnings/912.\r\n",
      "montage: Unknown field with tag 33922 (0x8482) encountered. `TIFFReadDirectory' @ warning/tiff.c/TIFFWarnings/912.\r\n",
      "montage: Unknown field with tag 34735 (0x87af) encountered. `TIFFReadDirectory' @ warning/tiff.c/TIFFWarnings/912.\r\n",
      "montage: Unknown field with tag 34736 (0x87b0) encountered. `TIFFReadDirectory' @ warning/tiff.c/TIFFWarnings/912.\r\n",
      "montage: Unknown field with tag 34737 (0x87b1) encountered. `TIFFReadDirectory' @ warning/tiff.c/TIFFWarnings/912.\r\n",
      "montage: Unknown field with tag 42112 (0xa480) encountered. `TIFFReadDirectory' @ warning/tiff.c/TIFFWarnings/912.\r\n",
      "montage: Unknown field with tag 33550 (0x830e) encountered. `TIFFReadDirectory' @ warning/tiff.c/TIFFWarnings/912.\r\n",
      "montage: Unknown field with tag 33922 (0x8482) encountered. `TIFFReadDirectory' @ warning/tiff.c/TIFFWarnings/912.\r\n",
      "montage: Unknown field with tag 34735 (0x87af) encountered. `TIFFReadDirectory' @ warning/tiff.c/TIFFWarnings/912.\r\n",
      "montage: Unknown field with tag 34736 (0x87b0) encountered. `TIFFReadDirectory' @ warning/tiff.c/TIFFWarnings/912.\r\n",
      "montage: Unknown field with tag 34737 (0x87b1) encountered. `TIFFReadDirectory' @ warning/tiff.c/TIFFWarnings/912.\r\n",
      "montage: Unknown field with tag 42112 (0xa480) encountered. `TIFFReadDirectory' @ warning/tiff.c/TIFFWarnings/912.\r\n",
      "montage: Unknown field with tag 33550 (0x830e) encountered. `TIFFReadDirectory' @ warning/tiff.c/TIFFWarnings/912.\r\n",
      "montage: Unknown field with tag 33922 (0x8482) encountered. `TIFFReadDirectory' @ warning/tiff.c/TIFFWarnings/912.\r\n",
      "montage: Unknown field with tag 34735 (0x87af) encountered. `TIFFReadDirectory' @ warning/tiff.c/TIFFWarnings/912.\r\n",
      "montage: Unknown field with tag 34736 (0x87b0) encountered. `TIFFReadDirectory' @ warning/tiff.c/TIFFWarnings/912.\r\n",
      "montage: Unknown field with tag 34737 (0x87b1) encountered. `TIFFReadDirectory' @ warning/tiff.c/TIFFWarnings/912.\r\n",
      "montage: Unknown field with tag 42112 (0xa480) encountered. `TIFFReadDirectory' @ warning/tiff.c/TIFFWarnings/912.\r\n"
     ]
    }
   ],
   "source": [
    "from satpy import Scene\n",
    "from glob import glob\n",
    "scn = Scene(reader='abi_l1b', filenames=glob('/data/data/abi/20170920/*.nc'))\n",
    "channels = [\"C{channel:02d}\".format(channel=chn) for chn in range(1, 17)]\n",
    "scn.load(channels)\n",
    "scn.save_datasets()\n",
    "! montage C??_20170920_173040.tif -geometry 512x512+4+4  -background black montage_abi_20170920_173040.jpg"
   ]
  },
  {
   "cell_type": "markdown",
   "metadata": {
    "slideshow": {
     "slide_type": "subslide"
    }
   },
   "source": [
    "<img src=\"montage_abi_20170920_173040.jpg\" alt=\"ABI Montage\" style=\"width:600px;\">"
   ]
  },
  {
   "cell_type": "code",
   "execution_count": 15,
   "metadata": {
    "slideshow": {
     "slide_type": "skip"
    }
   },
   "outputs": [
    {
     "name": "stderr",
     "output_type": "stream",
     "text": [
      "Platform file /Users/davidh/repos/git/satpy/satpy/etc/platforms.txt not found.\n",
      "Rasterio 1.0+ required for setting colorinterp\n",
      "/Users/davidh/anaconda/envs/polar2grid_py36/lib/python3.6/site-packages/dask/local.py:271: RuntimeWarning: invalid value encountered in less\n",
      "  return func(*args2)\n",
      "/Users/davidh/anaconda/envs/polar2grid_py36/lib/python3.6/site-packages/dask/local.py:271: RuntimeWarning: invalid value encountered in greater_equal\n",
      "  return func(*args2)\n",
      "/Users/davidh/anaconda/envs/polar2grid_py36/lib/python3.6/site-packages/dask/local.py:271: RuntimeWarning: invalid value encountered in log10\n",
      "  return func(*args2)\n"
     ]
    },
    {
     "name": "stdout",
     "output_type": "stream",
     "text": [
      "Input file size is 21696, 21696\n",
      "0...10...20...30...40...50...60...70...80...90...100 - done.\n"
     ]
    }
   ],
   "source": [
    "from satpy import Scene\n",
    "from glob import glob\n",
    "scn = Scene(reader='abi_l1b', filenames=glob('/data/data/abi/20170920/*.nc'))\n",
    "scn.load(['true_color'])\n",
    "new_scn = scn.resample(resampler='native')\n",
    "new_scn.save_datasets()\n",
    "! gdal_translate -of PNG -outsize 10% 10% true_color_20170920_173040{.tif,.png}"
   ]
  },
  {
   "cell_type": "markdown",
   "metadata": {
    "slideshow": {
     "slide_type": "subslide"
    }
   },
   "source": [
    "<img src=\"true_color_20170920_173040.png\" alt=\"ABI True Color\" style=\"width:600px;\">"
   ]
  },
  {
   "cell_type": "markdown",
   "metadata": {
    "slideshow": {
     "slide_type": "subslide"
    }
   },
   "source": [
    "# Our solution: SatPy\n",
    "\n",
    "* Version 0.9 released\n",
    "* Linux, OSX, Windows compatible\n",
    "* Installable with ``pip`` and ``conda`` (conda-forge)"
   ]
  },
  {
   "cell_type": "markdown",
   "metadata": {
    "slideshow": {
     "slide_type": "slide"
    }
   },
   "source": [
    "# How does SatPy make our work easier?\n",
    "\n",
    "* Common interfaces\n",
    "* Performance - ``xarray`` and ``dask``\n",
    "* Community"
   ]
  },
  {
   "cell_type": "markdown",
   "metadata": {
    "slideshow": {
     "slide_type": "subslide"
    }
   },
   "source": [
    "# Common Interfaces\n",
    "\n",
    "* Read\n",
    "* Composite/Modify\n",
    "* Resample\n",
    "* Write"
   ]
  },
  {
   "cell_type": "markdown",
   "metadata": {
    "slideshow": {
     "slide_type": "slide"
    }
   },
   "source": [
    "# Read: How do I get the information I need?\n",
    "\n",
    "* Reading satellite data is annoying\n",
    "  * Formats: NetCDF, HDF5, custom binary, compressed\n",
    "  * File \"schemes\" and organization\n",
    "  * Fill values\n",
    "  * Concatenation\n",
    "  * Missing metadata\n",
    "  * Many data variations\n",
    "  * Standards\n",
    "\n",
    "<img src=\"https://imgs.xkcd.com/comics/standards.png\" alt=\"drawing\">"
   ]
  },
  {
   "cell_type": "code",
   "execution_count": 2,
   "metadata": {
    "slideshow": {
     "slide_type": "skip"
    }
   },
   "outputs": [
    {
     "data": {
      "text/plain": [
       "['abi_l1b',\n",
       " 'acspo',\n",
       " 'ahi_hsd',\n",
       " 'amsr2_l1b',\n",
       " 'avhrr_aapp_l1b',\n",
       " 'avhrr_eps_l1b',\n",
       " 'clavrx',\n",
       " 'fci_fdhsi',\n",
       " 'generic_image',\n",
       " 'geocat',\n",
       " 'ghrsst_osisaf',\n",
       " 'grib',\n",
       " 'hdf4_caliopv3',\n",
       " 'hdfeos_l1b',\n",
       " 'hrit_electrol',\n",
       " 'hrit_goes',\n",
       " 'hrit_jma',\n",
       " 'hrit_msg',\n",
       " 'iasi_l2',\n",
       " 'li_l2',\n",
       " 'maia',\n",
       " 'native_msg',\n",
       " 'nc_nwcsaf_msg',\n",
       " 'nc_nwcsaf_pps',\n",
       " 'nc_olci_l1b',\n",
       " 'nc_olci_l2',\n",
       " 'nc_slstr',\n",
       " 'nucaps',\n",
       " 'omps_edr',\n",
       " 'safe_sar_c',\n",
       " 'scatsat1_l2b',\n",
       " 'viirs_compact',\n",
       " 'viirs_l1b',\n",
       " 'viirs_sdr']"
      ]
     },
     "execution_count": 2,
     "metadata": {},
     "output_type": "execute_result"
    }
   ],
   "source": [
    "from satpy import available_readers\n",
    "sorted(available_readers())"
   ]
  },
  {
   "cell_type": "markdown",
   "metadata": {
    "slideshow": {
     "slide_type": "slide"
    }
   },
   "source": [
    "# Loading data and the Scene object\n",
    "\n",
    "* By Name\n",
    "* By Wavelength\n",
    "* By ``DatasetID``\n",
    "* Specifying variations\n",
    "  * resolution\n",
    "  * polarization\n",
    "  * calibration - counts, radiance, reflectance, brightness temperature, etc."
   ]
  },
  {
   "cell_type": "code",
   "execution_count": 32,
   "metadata": {
    "slideshow": {
     "slide_type": "-"
    }
   },
   "outputs": [],
   "source": [
    "from satpy import Scene, DatasetID\n",
    "from glob import glob\n",
    "\n",
    "scn = Scene(reader='abi_l1b', filenames=glob('/data/data/abi/20170920/*.nc'))\n",
    "scn.load(['C01', 'C02'])"
   ]
  },
  {
   "cell_type": "code",
   "execution_count": 33,
   "metadata": {
    "slideshow": {
     "slide_type": "fragment"
    }
   },
   "outputs": [],
   "source": [
    "scn.load([0.46, 0.62])"
   ]
  },
  {
   "cell_type": "code",
   "execution_count": 34,
   "metadata": {
    "slideshow": {
     "slide_type": "fragment"
    }
   },
   "outputs": [],
   "source": [
    "ds_id = DatasetID(name='C02', calibration='radiance')\n",
    "scn.load([ds_id])"
   ]
  },
  {
   "cell_type": "code",
   "execution_count": 26,
   "metadata": {
    "slideshow": {
     "slide_type": "skip"
    }
   },
   "outputs": [
    {
     "data": {
      "text/plain": [
       "['C01', 'C02', 'C03', 'C04', 'C05', 'C06', 'C07', 'C08', 'C09', 'C10', 'C11', 'C12', 'C13', 'C14', 'C15', 'C16']"
      ]
     },
     "execution_count": 26,
     "metadata": {},
     "output_type": "execute_result"
    }
   ],
   "source": [
    "scn.available_dataset_names()"
   ]
  },
  {
   "cell_type": "code",
   "execution_count": 30,
   "metadata": {
    "slideshow": {
     "slide_type": "skip"
    }
   },
   "outputs": [
    {
     "data": {
      "text/plain": [
       "[DatasetID(name='C01', wavelength=(0.45, 0.47, 0.49), resolution=1000, polarization=None, calibration='radiance', level=None, modifiers=()),\n",
       " DatasetID(name='C01', wavelength=(0.45, 0.47, 0.49), resolution=1000, polarization=None, calibration='reflectance', level=None, modifiers=()),\n",
       " DatasetID(name='C02', wavelength=(0.59, 0.64, 0.69), resolution=500, polarization=None, calibration='radiance', level=None, modifiers=()),\n",
       " DatasetID(name='C02', wavelength=(0.59, 0.64, 0.69), resolution=500, polarization=None, calibration='reflectance', level=None, modifiers=()),\n",
       " DatasetID(name='C03', wavelength=(0.8455, 0.865, 0.8845), resolution=1000, polarization=None, calibration='radiance', level=None, modifiers=()),\n",
       " DatasetID(name='C03', wavelength=(0.8455, 0.865, 0.8845), resolution=1000, polarization=None, calibration='reflectance', level=None, modifiers=()),\n",
       " DatasetID(name='C04', wavelength=(1.3705, 1.378, 1.3855), resolution=2000, polarization=None, calibration='radiance', level=None, modifiers=()),\n",
       " DatasetID(name='C04', wavelength=(1.3705, 1.378, 1.3855), resolution=2000, polarization=None, calibration='reflectance', level=None, modifiers=()),\n",
       " DatasetID(name='C05', wavelength=(1.58, 1.61, 1.64), resolution=1000, polarization=None, calibration='radiance', level=None, modifiers=()),\n",
       " DatasetID(name='C05', wavelength=(1.58, 1.61, 1.64), resolution=1000, polarization=None, calibration='reflectance', level=None, modifiers=()),\n",
       " DatasetID(name='C06', wavelength=(2.225, 2.25, 2.275), resolution=2000, polarization=None, calibration='radiance', level=None, modifiers=()),\n",
       " DatasetID(name='C06', wavelength=(2.225, 2.25, 2.275), resolution=2000, polarization=None, calibration='reflectance', level=None, modifiers=()),\n",
       " DatasetID(name='C07', wavelength=(3.8, 3.9, 4.0), resolution=2000, polarization=None, calibration='brightness_temperature', level=None, modifiers=()),\n",
       " DatasetID(name='C07', wavelength=(3.8, 3.9, 4.0), resolution=2000, polarization=None, calibration='radiance', level=None, modifiers=()),\n",
       " DatasetID(name='C08', wavelength=(5.77, 6.185, 6.6), resolution=2000, polarization=None, calibration='brightness_temperature', level=None, modifiers=()),\n",
       " DatasetID(name='C08', wavelength=(5.77, 6.185, 6.6), resolution=2000, polarization=None, calibration='radiance', level=None, modifiers=()),\n",
       " DatasetID(name='C09', wavelength=(6.75, 6.95, 7.15), resolution=2000, polarization=None, calibration='brightness_temperature', level=None, modifiers=()),\n",
       " DatasetID(name='C09', wavelength=(6.75, 6.95, 7.15), resolution=2000, polarization=None, calibration='radiance', level=None, modifiers=()),\n",
       " DatasetID(name='C10', wavelength=(7.24, 7.34, 7.44), resolution=2000, polarization=None, calibration='brightness_temperature', level=None, modifiers=()),\n",
       " DatasetID(name='C10', wavelength=(7.24, 7.34, 7.44), resolution=2000, polarization=None, calibration='radiance', level=None, modifiers=()),\n",
       " DatasetID(name='C11', wavelength=(8.3, 8.5, 8.7), resolution=2000, polarization=None, calibration='brightness_temperature', level=None, modifiers=()),\n",
       " DatasetID(name='C11', wavelength=(8.3, 8.5, 8.7), resolution=2000, polarization=None, calibration='radiance', level=None, modifiers=()),\n",
       " DatasetID(name='C12', wavelength=(9.42, 9.61, 9.8), resolution=2000, polarization=None, calibration='brightness_temperature', level=None, modifiers=()),\n",
       " DatasetID(name='C12', wavelength=(9.42, 9.61, 9.8), resolution=2000, polarization=None, calibration='radiance', level=None, modifiers=()),\n",
       " DatasetID(name='C13', wavelength=(10.1, 10.35, 10.6), resolution=2000, polarization=None, calibration='brightness_temperature', level=None, modifiers=()),\n",
       " DatasetID(name='C13', wavelength=(10.1, 10.35, 10.6), resolution=2000, polarization=None, calibration='radiance', level=None, modifiers=()),\n",
       " DatasetID(name='C14', wavelength=(10.8, 11.2, 11.6), resolution=2000, polarization=None, calibration='brightness_temperature', level=None, modifiers=()),\n",
       " DatasetID(name='C14', wavelength=(10.8, 11.2, 11.6), resolution=2000, polarization=None, calibration='radiance', level=None, modifiers=()),\n",
       " DatasetID(name='C15', wavelength=(11.8, 12.3, 12.8), resolution=2000, polarization=None, calibration='brightness_temperature', level=None, modifiers=()),\n",
       " DatasetID(name='C15', wavelength=(11.8, 12.3, 12.8), resolution=2000, polarization=None, calibration='radiance', level=None, modifiers=()),\n",
       " DatasetID(name='C16', wavelength=(13.0, 13.3, 13.6), resolution=2000, polarization=None, calibration='brightness_temperature', level=None, modifiers=()),\n",
       " DatasetID(name='C16', wavelength=(13.0, 13.3, 13.6), resolution=2000, polarization=None, calibration='radiance', level=None, modifiers=())]"
      ]
     },
     "execution_count": 30,
     "metadata": {},
     "output_type": "execute_result"
    }
   ],
   "source": [
    "scn.available_dataset_ids()"
   ]
  },
  {
   "cell_type": "code",
   "execution_count": 29,
   "metadata": {
    "slideshow": {
     "slide_type": "subslide"
    }
   },
   "outputs": [
    {
     "data": {
      "text/plain": [
       "<xarray.DataArray (y: 21696, x: 21696)>\n",
       "dask.array<shape=(21696, 21696), dtype=float64, chunksize=(4096, 4096)>\n",
       "Coordinates:\n",
       "  * x        (x) float64 -0.1519 -0.1519 -0.1518 -0.1518 -0.1518 -0.1518 ...\n",
       "    y_image  float32 0.0\n",
       "    x_image  float32 0.0\n",
       "  * y        (y) float64 0.1519 0.1519 0.1518 0.1518 0.1518 0.1518 0.1518 ...\n",
       "Attributes:\n",
       "    satellite_longitude:    -89.5\n",
       "    satellite_latitude:     0.0\n",
       "    satellite_altitude:     35786.0234375\n",
       "    units:                  %\n",
       "    modifiers:              ()\n",
       "    wavelength:             (0.59, 0.64, 0.69)\n",
       "    grid_mapping:           goes_imager_projection\n",
       "    _Unsigned:              true\n",
       "    cell_methods:           t: point area: point\n",
       "    standard_name:          toa_bidirectional_reflectance\n",
       "    scale_factor:           0.158592\n",
       "    ancillary_variables:    []\n",
       "    valid_range:            [   0 4094]\n",
       "    long_name:              ABI L1b Radiances\n",
       "    add_offset:             -20.2899\n",
       "    resolution:             500\n",
       "    calibration:            reflectance\n",
       "    _FillValue:             4095\n",
       "    sensor:                 abi\n",
       "    sensor_band_bit_depth:  12\n",
       "    name:                   C02\n",
       "    platform_name:          GOES-16\n",
       "    start_time:             2017-09-20 17:30:40.800000\n",
       "    end_time:               2017-09-20 17:41:17.500000\n",
       "    area:                   Area ID: abi_geos\\nDescription: ABI L1B file area...\n",
       "    polarization:           None\n",
       "    level:                  None"
      ]
     },
     "execution_count": 29,
     "metadata": {},
     "output_type": "execute_result"
    }
   ],
   "source": [
    "scn['C02']"
   ]
  },
  {
   "cell_type": "code",
   "execution_count": 14,
   "metadata": {
    "slideshow": {
     "slide_type": "subslide"
    }
   },
   "outputs": [],
   "source": [
    "scn.show('C01')"
   ]
  },
  {
   "cell_type": "code",
   "execution_count": 4,
   "metadata": {
    "slideshow": {
     "slide_type": "skip"
    }
   },
   "outputs": [
    {
     "name": "stdout",
     "output_type": "stream",
     "text": [
      "Input file size is 10848, 10848\n",
      "0...10...20...30...40...50...60...70...80...90...100 - done.\n"
     ]
    }
   ],
   "source": [
    "scn.save_dataset('C01', base_dir='/Users/davidh/repos/git/pytroll-examples/satpy/presentations/2018_scipy/', writer='simple_image')\n",
    "\n",
    "! gdal_translate -of PNG -outsize 10% 10% C01_20170920_173040.png C01_20170920_173040.small.png"
   ]
  },
  {
   "cell_type": "markdown",
   "metadata": {
    "slideshow": {
     "slide_type": "-"
    }
   },
   "source": [
    "<img src=\"C01_20170920_173040.small.png\" alt=\"ABI C01\" style=\"width:550px;\">"
   ]
  },
  {
   "cell_type": "markdown",
   "metadata": {
    "slideshow": {
     "slide_type": "slide"
    }
   },
   "source": [
    "# Composite: How do I make pretty color pictures?\n",
    "\n",
    "<img src=\"abi_rgbs_20170920_173040.jpg\" alt=\"ABI RGB montage\" style=\"width:550px;\">"
   ]
  },
  {
   "cell_type": "code",
   "execution_count": null,
   "metadata": {
    "slideshow": {
     "slide_type": "skip"
    }
   },
   "outputs": [
    {
     "name": "stderr",
     "output_type": "stream",
     "text": [
      "Platform file /Users/davidh/repos/git/satpy/satpy/etc/platforms.txt not found.\n",
      "Rasterio 1.0+ required for setting colorinterp\n",
      "Rasterio 1.0+ required for setting colorinterp\n",
      "Rasterio 1.0+ required for setting colorinterp\n",
      "/Users/davidh/anaconda/envs/polar2grid_py36/lib/python3.6/site-packages/dask/local.py:271: RuntimeWarning: invalid value encountered in less\n",
      "  return func(*args2)\n",
      "/Users/davidh/anaconda/envs/polar2grid_py36/lib/python3.6/site-packages/dask/local.py:271: RuntimeWarning: invalid value encountered in greater_equal\n",
      "  return func(*args2)\n"
     ]
    }
   ],
   "source": [
    "from satpy import Scene\n",
    "from glob import glob\n",
    "\n",
    "scn = Scene(reader='abi_l1b', filenames=glob('/data/data/abi/20170920/*.nc'))\n",
    "scn.load(['overview', 'natural', 'airmass'])\n",
    "new_scn = scn.resample(resampler='native')\n",
    "new_scn.save_datasets()\n",
    "! montage {true_color,overview,natural,airmass}_20170920_173040.tif -geometry 512x512+2+2 -background black abi_rgbs_20170920_173040.jpg"
   ]
  },
  {
   "cell_type": "code",
   "execution_count": 1,
   "metadata": {
    "slideshow": {
     "slide_type": "skip"
    }
   },
   "outputs": [
    {
     "data": {
      "text/plain": [
       "['airmass', 'ash', 'dust', 'fog', 'green', 'green_raw', 'green_snow', 'ir_cloud_day', 'natural', 'natural_raw', 'natural_sun', 'night_microphysics', 'overview', 'overview_raw', 'true_color', 'true_color_raw']"
      ]
     },
     "execution_count": 1,
     "metadata": {},
     "output_type": "execute_result"
    }
   ],
   "source": [
    "from satpy import Scene\n",
    "from glob import glob\n",
    "\n",
    "scn = Scene(reader='abi_l1b', filenames=glob('/data/data/abi/20170920/*.nc'))\n",
    "scn.available_composite_names()"
   ]
  },
  {
   "cell_type": "code",
   "execution_count": 2,
   "metadata": {
    "slideshow": {
     "slide_type": "subslide"
    }
   },
   "outputs": [
    {
     "data": {
      "text/plain": [
       "<xarray.DataArray 'concatenate-d3ffb434ba4f6164ba94e209a0860c74' (bands: 3, y: 5424, x: 5424)>\n",
       "dask.array<shape=(3, 5424, 5424), dtype=float64, chunksize=(1, 4096, 4096)>\n",
       "Coordinates:\n",
       "  * x        (x) float64 -0.1518 -0.1518 -0.1517 -0.1517 -0.1516 -0.1516 ...\n",
       "    y_image  float32 0.0\n",
       "    x_image  float32 0.0\n",
       "  * y        (y) float64 0.1518 0.1518 0.1517 0.1517 0.1516 0.1516 0.1515 ...\n",
       "  * bands    (bands) <U1 'R' 'G' 'B'\n",
       "Attributes:\n",
       "    long_name:               ABI L1b Radiances\n",
       "    grid_mapping:            goes_imager_projection\n",
       "    level:                   None\n",
       "    satellite_latitude:      0.0\n",
       "    sensor:                  abi\n",
       "    satellite_altitude:      35786.0234375\n",
       "    ancillary_variables:     []\n",
       "    start_time:              2017-09-20 17:30:40.800000\n",
       "    cell_methods:            t: point area: point\n",
       "    polarization:            None\n",
       "    resolution:              None\n",
       "    area:                    Area ID: some_area_name\\nDescription: On-the-fly...\n",
       "    platform_name:           GOES-16\n",
       "    _Unsigned:               true\n",
       "    satellite_longitude:     -89.5\n",
       "    standard_name:           airmass\n",
       "    wavelength:              None\n",
       "    optional_datasets:       []\n",
       "    end_time:                2017-09-20 17:41:18.600000\n",
       "    name:                    airmass\n",
       "    prerequisites:           [6.2, 7.3, 9.7, 10.3]\n",
       "    optional_prerequisites:  []\n",
       "    calibration:             None\n",
       "    modifiers:               None\n",
       "    mode:                    RGB"
      ]
     },
     "execution_count": 2,
     "metadata": {},
     "output_type": "execute_result"
    }
   ],
   "source": [
    "scn.load(['airmass'])\n",
    "scn['airmass']"
   ]
  },
  {
   "cell_type": "markdown",
   "metadata": {
    "slideshow": {
     "slide_type": "skip"
    }
   },
   "source": [
    "# Composite YAML configuration files\n",
    "\n",
    "```yaml\n",
    "  airmass:\n",
    "    compositor: !!python/name:satpy.composites.Airmass\n",
    "    prerequisites:\n",
    "    - 6.2\n",
    "    - 7.3\n",
    "    - 9.7\n",
    "    - 10.3\n",
    "    standard_name: airmass\n",
    "```"
   ]
  },
  {
   "cell_type": "markdown",
   "metadata": {
    "slideshow": {
     "slide_type": "slide"
    }
   },
   "source": [
    "# Modifiers: How do I make my pretty picture prettier?\n",
    "\n",
    "<img src=\"true_color_before_after_20170920_173040.jpg\" alt=\"ABI True Color Before/After\">"
   ]
  },
  {
   "cell_type": "markdown",
   "metadata": {
    "slideshow": {
     "slide_type": "subslide"
    }
   },
   "source": [
    "# Do the impossible"
   ]
  },
  {
   "cell_type": "code",
   "execution_count": null,
   "metadata": {
    "slideshow": {
     "slide_type": "-"
    }
   },
   "outputs": [],
   "source": [
    "scn.load(['true_color'])"
   ]
  },
  {
   "cell_type": "markdown",
   "metadata": {
    "slideshow": {
     "slide_type": "-"
    }
   },
   "source": [
    "Operations Involved:\n",
    "\n",
    "* 3 input bands (500m and 1000m)\n",
    "* 3 complex data enhancements\n",
    "* 1 pseudo-band (green)\n",
    "* Upscale to 500m\n",
    "* Final result: 21696 rows \\* 21696 cols \\* 8 bytes \\* 3 input bands = ~10.5 GB\n",
    "* Dask-based SatPy loads, computes, and saves to geotiff in 6-8 minutes"
   ]
  },
  {
   "cell_type": "code",
   "execution_count": 1,
   "metadata": {
    "slideshow": {
     "slide_type": "skip"
    }
   },
   "outputs": [],
   "source": [
    "from satpy import Scene\n",
    "from glob import glob\n",
    "\n",
    "scn = Scene(reader='abi_l1b', filenames=glob('/data/data/abi/20170920/*.nc'))\n",
    "scn.load(['true_color_raw'])\n",
    "new_scn = scn.resample(resampler='native')\n",
    "new_scn.save_datasets()\n",
    "! montage true_color_raw_20170920_173040.tif true_color_20170920_173040.tif -geometry 512x512+2 -background black true_color_before_after_20170920_173040.jpg"
   ]
  },
  {
   "cell_type": "markdown",
   "metadata": {
    "slideshow": {
     "slide_type": "skip"
    }
   },
   "source": [
    "# Modifiers\n",
    "\n",
    "* During load\n",
    "\n",
    "```python\n",
    "ds_id = DatasetID(name='C01', modifiers=('sunz_corrected',))\n",
    "scn.load([ds_id])\n",
    "```\n",
    "\n",
    "* Configuring composites\n",
    "\n",
    "```yaml\n",
    "\n",
    "  true_color:\n",
    "    compositor: !!python/name:satpy.composites.SelfSharpenedRGB\n",
    "    prerequisites:\n",
    "    - name: C02\n",
    "      modifiers: [sunz_corrected, rayleigh_corrected]\n",
    "    - name: green\n",
    "    - name: C01\n",
    "      modifiers: [sunz_corrected, rayleigh_corrected]\n",
    "    standard_name: true_color\n",
    "\n",
    "```"
   ]
  },
  {
   "cell_type": "markdown",
   "metadata": {
    "slideshow": {
     "slide_type": "slide"
    }
   },
   "source": [
    "# Resampling\n",
    "\n",
    "<img src=\"remap.png\" alt=\"Remapping\">\n",
    "\n",
    "<h6><a href=\"https://openi.nlm.nih.gov/detailedresult.php?img=PMC4299089_sensors-14-23822f3&req=4\">Ref</a></h6>"
   ]
  },
  {
   "cell_type": "markdown",
   "metadata": {
    "slideshow": {
     "slide_type": "notes"
    }
   },
   "source": [
    "* Users want a common projection independent of the polar orbit\n",
    "* Resampling in order to remap to one common projection\n"
   ]
  },
  {
   "cell_type": "code",
   "execution_count": 36,
   "metadata": {
    "slideshow": {
     "slide_type": "subslide"
    }
   },
   "outputs": [],
   "source": [
    "from satpy import Scene\n",
    "from glob import glob\n",
    "scn = Scene(reader='viirs_sdr',\n",
    "            filenames=glob('/data/data/viirs/conus_day/*t1801*.h5'))\n",
    "scn.load(['I04'])"
   ]
  },
  {
   "cell_type": "code",
   "execution_count": null,
   "metadata": {
    "slideshow": {
     "slide_type": "-"
    }
   },
   "outputs": [],
   "source": [
    "scn.show('I04')"
   ]
  },
  {
   "cell_type": "markdown",
   "metadata": {
    "slideshow": {
     "slide_type": "-"
    }
   },
   "source": [
    "<img src=\"I04_20120225_180125.swath.png\" alt=\"VIIRS I04 Swath\">"
   ]
  },
  {
   "cell_type": "code",
   "execution_count": null,
   "metadata": {
    "slideshow": {
     "slide_type": "subslide"
    }
   },
   "outputs": [],
   "source": [
    "scn = Scene(reader='viirs_sdr',\n",
    "            filenames=glob('/data/data/viirs/conus_day/*t180*.h5'))\n",
    "scn.load(['I04'])\n",
    "new_scn = scn.resample('211e')\n",
    "new_scn.show('I04')"
   ]
  },
  {
   "cell_type": "markdown",
   "metadata": {
    "slideshow": {
     "slide_type": "-"
    }
   },
   "source": [
    "<img src=\"I04_20120225_180125.png\" alt=\"NPP VIIRS I04\" style=\"width:450px;\">"
   ]
  },
  {
   "cell_type": "code",
   "execution_count": null,
   "metadata": {
    "slideshow": {
     "slide_type": "skip"
    }
   },
   "outputs": [],
   "source": [
    "from pyresample.geometry import AreaDefinition\n",
    "area_def = AreaDefinition(\n",
    "    'name', 'description', 'merc',\n",
    "    {'proj': 'merc', 'datum': 'WGS84', 'lon_0': -95.0},\n",
    "    1000, 1000, (0, 1750000, 4500000, 5500000))\n",
    "\n",
    "new_scn = scn.resample(area_def, radius_of_influence=10000)\n",
    "new_scn.show('I04')"
   ]
  },
  {
   "cell_type": "markdown",
   "metadata": {
    "slideshow": {
     "slide_type": "skip"
    }
   },
   "source": [
    "<img src=\"I04_20120225_180125.custom_area.png\" alt=\"NPP VIIRS I04 Custom\" style=\"width:450px;\">"
   ]
  },
  {
   "cell_type": "markdown",
   "metadata": {
    "slideshow": {
     "slide_type": "slide"
    }
   },
   "source": [
    "# Saving to disk\n",
    "\n",
    "* Writers\n",
    "  * Geotiff (rasterio)\n",
    "  * Pillow (png, jpeg, etc)\n",
    "  * AWIPS SCMI\n",
    "  * CF-compliant NetCDF (limited projection support)\n",
    "* Use dask blocks when possible"
   ]
  },
  {
   "cell_type": "code",
   "execution_count": 63,
   "metadata": {
    "slideshow": {
     "slide_type": "skip"
    }
   },
   "outputs": [
    {
     "data": {
      "text/plain": [
       "['mitiff', 'simple_image', 'geotiff', 'cf', 'scmi']"
      ]
     },
     "execution_count": 63,
     "metadata": {},
     "output_type": "execute_result"
    }
   ],
   "source": [
    "from satpy import available_writers\n",
    "available_writers()"
   ]
  },
  {
   "cell_type": "code",
   "execution_count": null,
   "metadata": {
    "slideshow": {
     "slide_type": "-"
    }
   },
   "outputs": [],
   "source": [
    "scn.save_datasets(writer='geotiff', base_dir='/tmp', compress='LZW')"
   ]
  },
  {
   "cell_type": "markdown",
   "metadata": {
    "slideshow": {
     "slide_type": "slide"
    }
   },
   "source": [
    "# The Basics\n",
    "\n",
    "```python\n",
    "from satpy import Scene\n",
    "scn = Scene(reader='abi_l1b', filenames=[...])\n",
    "scn.load(['C01', 'C02', 'C08', 'true_color', 'air_mass', 'natural'])\n",
    "new_scn = scn.resample(resampler='native')\n",
    "new_scn.save_datasets(base_dir='/tmp')\n",
    "```"
   ]
  },
  {
   "cell_type": "markdown",
   "metadata": {
    "slideshow": {
     "slide_type": "slide"
    }
   },
   "source": [
    "# Fun Stuff: Stacked Scenes"
   ]
  },
  {
   "cell_type": "code",
   "execution_count": 2,
   "metadata": {},
   "outputs": [
    {
     "name": "stdout",
     "output_type": "stream",
     "text": [
      "[########################################] | 100% Completed |  4min 15.4s\n",
      "[########################################] | 100% Completed |  0.1s\n"
     ]
    }
   ],
   "source": [
    "from satpy import Scene, MultiScene\n",
    "from glob import glob\n",
    "import os\n",
    "from dask.diagnostics import ProgressBar\n",
    "base_dir = '/data/data/viirs/2018_06_29/'\n",
    "viirs_passes = ['2018_06_29_180_0614', '2018_06_29_180_0752', '2018_06_29_180_0934']\n",
    "viirs_scenes = [Scene(reader='viirs_sdr',\n",
    "                      filenames=glob(os.path.join(base_dir, vp, '*.h5'))) \n",
    "                for vp in viirs_passes]\n",
    "\n",
    "mscn = MultiScene(viirs_scenes)\n",
    "mscn.load(['I04'])\n",
    "new_mscn = mscn.resample('211e')\n",
    "blended_scn = new_mscn.blend()\n",
    "with ProgressBar():\n",
    "    blended_scn.save_datasets()"
   ]
  },
  {
   "cell_type": "code",
   "execution_count": 4,
   "metadata": {},
   "outputs": [
    {
     "name": "stdout",
     "output_type": "stream",
     "text": [
      "Input file size is 5120, 5120\n",
      "0...10...20...30...40...50...60...70...80...90...100 - done.\n"
     ]
    }
   ],
   "source": [
    "! gdal_translate -of PNG -outsize 10% 10% I04_20180629_061415{.tif,.png}"
   ]
  },
  {
   "cell_type": "markdown",
   "metadata": {
    "slideshow": {
     "slide_type": "subslide"
    }
   },
   "source": [
    "<img src=\"I04_20180629_061415.png\" alt=\"Blended I04\" style=\"width:550px\">"
   ]
  },
  {
   "cell_type": "markdown",
   "metadata": {
    "slideshow": {
     "slide_type": "slide"
    }
   },
   "source": [
    "# Fun Stuff: Animations\n",
    "\n",
    "```python\n",
    "scenes = [Scene(reader='abi_l1b', filenames=step_files)\n",
    "          for step_files in grouped_files]\n",
    "mscn = MultiScene(scenes)\n",
    "mscn.load(['C01'])\n",
    "new_mscn = mscn.resample(resampler='native')\n",
    "new_mscn.save_animation('{name}_{start_time:%Y%m%d_%H%M%S}.mp4',\n",
    "                        fps=5, batch_size=4,\n",
    "                        output_params=[\"-vf\", \"format=yuv420p,scale=640:-1\"])\n",
    "```"
   ]
  },
  {
   "cell_type": "code",
   "execution_count": 5,
   "metadata": {},
   "outputs": [
    {
     "data": {
      "text/html": [
       "\n",
       "<video width=\"640\" height=\"480\" controls>\n",
       "  <source src=\"C01_20180623_000045.mp4\" type=\"video/mp4\">\n",
       "</video>\n"
      ],
      "text/plain": [
       "<IPython.core.display.HTML object>"
      ]
     },
     "execution_count": 5,
     "metadata": {},
     "output_type": "execute_result"
    }
   ],
   "source": [
    "from IPython.display import HTML\n",
    "HTML(\"\"\"\n",
    "<video width=\"640\" height=\"480\" controls>\n",
    "  <source src=\"C01_20180623_000045.mp4\" type=\"video/mp4\">\n",
    "</video>\n",
    "\"\"\")"
   ]
  },
  {
   "cell_type": "markdown",
   "metadata": {
    "slideshow": {
     "slide_type": "slide"
    }
   },
   "source": [
    "# Fun Stuff: Cartopy"
   ]
  },
  {
   "cell_type": "code",
   "execution_count": null,
   "metadata": {},
   "outputs": [],
   "source": [
    "from satpy import Scene\n",
    "from glob import glob\n",
    "import matplotlib.pyplot as plt\n",
    "\n",
    "filenames = glob('/data/data/viirs/conus_day/*t180*.h5')\n",
    "scn = Scene(reader='viirs_sdr', filenames=filenames)\n",
    "scn.load(['I04'])\n",
    "new_scn = scn.resample('211e')\n",
    "\n",
    "crs = new_scn['I04'].attrs['area'].to_cartopy_crs()\n",
    "ax = plt.axes(projection=crs)\n",
    "\n",
    "ax.coastlines()\n",
    "ax.gridlines()\n",
    "ax.set_global()\n",
    "plt.imshow(new_scn['I04'], transform=crs, extent=crs.bounds, origin='upper')\n",
    "cbar = plt.colorbar()\n",
    "cbar.set_label(\"Kelvin\")\n",
    "plt.show()"
   ]
  },
  {
   "cell_type": "markdown",
   "metadata": {},
   "source": [
    "<img src=\"I04_cartopy_plot.png\" alt=\"I04 Cartopy\">"
   ]
  },
  {
   "cell_type": "markdown",
   "metadata": {
    "slideshow": {
     "slide_type": "slide"
    }
   },
   "source": [
    "# SatPy and The PyTroll Community\n",
    "\n",
    "* Community Website: http://pytroll.github.io/\n",
    "* GitHub: https://github.com/pytroll/satpy\n",
    "* SatPy Documentation: http://satpy.readthedocs.io/en/latest/\n",
    "* Mailing List: https://groups.google.com/d/forum/pytroll\n",
    "* Workshops twice a year!\n",
    "* Chat with us on slack (invite link on community website)\n",
    "\n",
    "<img src=\"https://raw.githubusercontent.com/pytroll/pytroll/main/web/source/images/pytroll_dark_small.png\" style=\"background-color:black;\">\n"
   ]
  },
  {
   "cell_type": "code",
   "execution_count": 5,
   "metadata": {
    "slideshow": {
     "slide_type": "slide"
    }
   },
   "outputs": [
    {
     "data": {
      "text/html": [
       "\n",
       "        <iframe\n",
       "            width=\"600\"\n",
       "            height=\"400\"\n",
       "            src=\"https://www.youtube.com/embed/eBQi2G_fqXQ?rel=0\"\n",
       "            frameborder=\"0\"\n",
       "            allowfullscreen\n",
       "        ></iframe>\n",
       "        "
      ],
      "text/plain": [
       "<IPython.lib.display.IFrame at 0x1124d79b0>"
      ]
     },
     "execution_count": 5,
     "metadata": {},
     "output_type": "execute_result"
    }
   ],
   "source": [
    "from IPython.display import IFrame\n",
    "IFrame('https://www.youtube.com/embed/eBQi2G_fqXQ?rel=0', width=600, height=400)"
   ]
  },
  {
   "cell_type": "code",
   "execution_count": null,
   "metadata": {},
   "outputs": [],
   "source": []
  }
 ],
 "metadata": {
  "celltoolbar": "Slideshow",
  "kernelspec": {
   "display_name": "Python 3",
   "language": "python",
   "name": "python3"
  },
  "language_info": {
   "codemirror_mode": {
    "name": "ipython",
    "version": 3
   },
   "file_extension": ".py",
   "mimetype": "text/x-python",
   "name": "python",
   "nbconvert_exporter": "python",
   "pygments_lexer": "ipython3",
   "version": "3.6.4"
  }
 },
 "nbformat": 4,
 "nbformat_minor": 2
}
